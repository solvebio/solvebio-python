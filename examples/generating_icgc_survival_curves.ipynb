{
 "cells": [
  {
   "cell_type": "markdown",
   "metadata": {},
   "source": [
    "# Advanced SolveBio Tutorial\n",
    "## 2016-11-01 Generating survival curves by cancer type\n",
    "\n",
    "NOTE: This page may not load optimally in GitHuB. Please [view in NBViewer](http://nbviewer.jupyter.org/github/solvebio/solvebio-python/blob/fef6b7987c718519da5ede17f47b1601768987a4/examples/generating_icgc_survival_curves.ipynb) for the best experience.\n",
    "\n",
    "\n",
    "One powerful part of SolveBio is in the ability to filter through datasets quickly in the SolveBio cloud. This means you don't have to download the source data to your computer and run complicated and computationally heavy filtering to bring out the data that you need. This example script shows how you can generate Kaplan-Meier survival curves based on filtering ICGC data. "
   ]
  },
  {
   "cell_type": "markdown",
   "metadata": {},
   "source": [
    "First we load up the solvebio and plotly modules, to access, filter, and display data. Make sure you already have the solvebio python client installed (see https://docs.solvebio.com/docs/installation for instructions)."
   ]
  },
  {
   "cell_type": "code",
   "execution_count": 1,
   "metadata": {
    "collapsed": false
   },
   "outputs": [],
   "source": [
    "from solvebio import login, Dataset, Filter\n",
    "import plotly.plotly as py\n",
    "import plotly.tools as tls\n",
    "from plotly.graph_objs import *\n",
    "\n",
    "# Load local SolveBio credentials\n",
    "login()"
   ]
  },
  {
   "cell_type": "markdown",
   "metadata": {},
   "source": [
    "We'll use the ICGC Donor dataset. You can explore this dataset in your browser with https://my.solvebio.com/data/ICGC/2.0.0-21/Donor. "
   ]
  },
  {
   "cell_type": "code",
   "execution_count": 2,
   "metadata": {
    "collapsed": false
   },
   "outputs": [
    {
     "data": {
      "text/plain": [
       "\n",
       "|                                       Fields | Data                 |\n",
       "|----------------------------------------------+----------------------|\n",
       "|                                          _id | AVVMqqfMiFWN82jP3-04 |\n",
       "|         cancer_history_first_degree_relative |                      |\n",
       "|                 cancer_type_prior_malignancy |                      |\n",
       "|                 disease_status_last_followup |                      |\n",
       "|                       donor_age_at_diagnosis | 62                   |\n",
       "|                      donor_age_at_enrollment | 62                   |\n",
       "|                   donor_age_at_last_followup |                      |\n",
       "|                        donor_diagnosis_icd10 | C67.9                |\n",
       "|              donor_interval_of_last_followup |                      |\n",
       "|                       donor_relapse_interval |                      |\n",
       "|                           donor_relapse_type | local recurrence     |\n",
       "|                                    donor_sex | male                 |\n",
       "|                          donor_survival_time |                      |\n",
       "|              donor_tumour_stage_at_diagnosis | T2NxMx               |\n",
       "| donor_tumour_stage_at_diagnosis_supplemental |                      |\n",
       "|     donor_tumour_staging_system_at_diagnosis | TNM                  |\n",
       "|                           donor_vital_status |                      |\n",
       "|                                icgc_donor_id | DO48367              |\n",
       "|                             prior_malignancy |                      |\n",
       "|                                 project_code | BLCA-CN              |\n",
       "|                      study_donor_involved_in |                      |\n",
       "|                           submitted_donor_id | China_0002_B105      |\n",
       "\n",
       "... 18,676 more results."
      ]
     },
     "execution_count": 2,
     "metadata": {},
     "output_type": "execute_result"
    }
   ],
   "source": [
    "icgc_donor = Dataset.get_by_full_path('solvebio:public:/ICGC/3.0.0-23/Donor')\n",
    "icgc_donor.query()"
   ]
  },
  {
   "cell_type": "markdown",
   "metadata": {},
   "source": [
    "We'll set the initial Kaplan-Meier interval sizes and total interval sizes as well as our initial filters. This particular filter will compare survival curves between the total ICGC dataset (every patient with survival information) and a subset of the ICGC that begins with the project code PACA (pancreatic cancer projects). "
   ]
  },
  {
   "cell_type": "code",
   "execution_count": 3,
   "metadata": {
    "collapsed": false
   },
   "outputs": [],
   "source": [
    "# interval sizes are in days\n",
    "interval_size = 90\n",
    "total_interval_to_follow = 1825\n",
    "\n",
    "f1 = Filter()\n",
    "f2 = Filter(project_code__prefix='PACA')"
   ]
  },
  {
   "cell_type": "markdown",
   "metadata": {},
   "source": [
    "Now we construct the filters that will bring out the survival information data and start querying the SolveBio ICGC dataset for each set interval."
   ]
  },
  {
   "cell_type": "code",
   "execution_count": 4,
   "metadata": {
    "collapsed": false
   },
   "outputs": [],
   "source": [
    "f1_total = icgc_donor.query(filters=f1).filter(donor_survival_time__gt=0).facets('donor_survival_time').get('donor_survival_time')['count']\n",
    "f2_total = icgc_donor.query(filters=f2).filter(donor_survival_time__gt=0).facets('donor_survival_time').get('donor_survival_time')['count']\n",
    "\n",
    "f1_data = [[0, 100]]\n",
    "f2_data = [[0, 100]]\n",
    "\n",
    "for day in range(interval_size, total_interval_to_follow, interval_size):\n",
    "    f1_percent_alive = 100 * float(icgc_donor.query(filters=f1).filter(donor_survival_time__gte=day).facets('donor_survival_time').get('donor_survival_time')['count'])/float(f1_total)\n",
    "    f1_data += [[day, f1_percent_alive]]\n",
    "    \n",
    "    f2_percent_alive = 100 * float(icgc_donor.query(filters=f2).filter(donor_survival_time__gte=day).facets('donor_survival_time').get('donor_survival_time')['count'])/float(f2_total)\n",
    "    f2_data += [[day, f2_percent_alive]]"
   ]
  },
  {
   "cell_type": "markdown",
   "metadata": {},
   "source": [
    "Finally, this entire module below plots the survival curves."
   ]
  },
  {
   "cell_type": "code",
   "execution_count": 5,
   "metadata": {
    "collapsed": false
   },
   "outputs": [
    {
     "data": {
      "text/html": [
       "<iframe id=\"igraph\" scrolling=\"no\" style=\"border:none;\"seamless=\"seamless\" src=\"https://plot.ly/~dandanxu/152.embed\" height=\"525\" width=\"100%\"></iframe>"
      ],
      "text/plain": [
       "<plotly.tools.PlotlyDisplay object>"
      ]
     },
     "execution_count": 5,
     "metadata": {},
     "output_type": "execute_result"
    }
   ],
   "source": [
    "trace1 = Scatter(\n",
    "    name=str(f1),\n",
    "    x=[_x[0] for _x in f1_data],\n",
    "    y=[_y[1] for _y in f1_data],\n",
    "    mode='lines',\n",
    "    line=Line(\n",
    "        shape='hv'\n",
    "    ),\n",
    ")\n",
    "\n",
    "trace2 = Scatter(\n",
    "    name=str(f2),\n",
    "    x=[_x[0] for _x in f2_data],\n",
    "    y=[_y[1] for _y in f2_data],\n",
    "    mode='lines',\n",
    "    line=Line(\n",
    "        shape='hv'\n",
    "    ),\n",
    ")\n",
    "\n",
    "data = Data([trace1, trace2])\n",
    "\n",
    "# Add title to layout object\n",
    "layout = Layout(\n",
    "    title='Kaplan-Meier',\n",
    "    showlegend=True,\n",
    "    legend=Legend(\n",
    "        x=0,\n",
    "        y=100\n",
    "    ),\n",
    "    xaxis=XAxis(\n",
    "        title='Days',\n",
    "        zeroline=True,\n",
    "        showline=True,\n",
    "        tick0=0,\n",
    "        range=[0, total_interval_to_follow + 1],\n",
    "    ),\n",
    "    yaxis=YAxis(\n",
    "        title='Percent Survival',\n",
    "        range=[0, 101],\n",
    "        tick0=0,\n",
    "        dtick=10,\n",
    "    )\n",
    ")\n",
    "# Make a figure object\n",
    "fig = Figure(data=data, layout=layout)\n",
    "\n",
    "# (@) Send fig to Plotly, initialize streaming plot, open new tab\n",
    "plot_url = py.plot(fig, filename='static-kaplan-meier', auto_open=False)\n",
    "tls.embed(plot_url)"
   ]
  },
  {
   "cell_type": "markdown",
   "metadata": {},
   "source": [
    "With the filtering options in SolveBio, you can quickly do analyses such as plotting survival curves for various patient populations with additional experimental data in ICGC (for example, those with a specific somatic mutation, or overexpression in a gene, or a specific methylation signature, versus those without)."
   ]
  }
 ],
 "metadata": {
  "kernelspec": {
   "display_name": "Python 2",
   "language": "python",
   "name": "python2"
  },
  "language_info": {
   "codemirror_mode": {
    "name": "ipython",
    "version": 2
   },
   "file_extension": ".py",
   "mimetype": "text/x-python",
   "name": "python",
   "nbconvert_exporter": "python",
   "pygments_lexer": "ipython2",
   "version": "2.7.11"
  }
 },
 "nbformat": 4,
 "nbformat_minor": 0
}
