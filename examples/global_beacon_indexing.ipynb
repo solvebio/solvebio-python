{
 "cells": [
  {
   "cell_type": "markdown",
   "metadata": {},
   "source": [
    "## Global Beacon"
   ]
  },
  {
   "cell_type": "markdown",
   "metadata": {},
   "source": [
    "Global Beacon lets anyone in your organization find datasets based on the entities it contains (i.e. variants, genets, targets). \n",
    "\n",
    "`Note`: Only datasets that contain entities can be indexed."
   ]
  },
  {
   "cell_type": "markdown",
   "metadata": {},
   "source": [
    "### Importing SolveBio library and logging in"
   ]
  },
  {
   "cell_type": "code",
   "execution_count": 6,
   "metadata": {},
   "outputs": [],
   "source": [
    "# Importing SolveBio library\n",
    "from solvebio import login\n",
    "from solvebio import Object"
   ]
  },
  {
   "cell_type": "code",
   "execution_count": 7,
   "metadata": {},
   "outputs": [
    {
     "data": {
      "text/plain": [
       "True"
      ]
     },
     "execution_count": 7,
     "metadata": {},
     "output_type": "execute_result"
    }
   ],
   "source": [
    "# Logging to SolveBio\n",
    "login()"
   ]
  },
  {
   "cell_type": "markdown",
   "metadata": {},
   "source": [
    "### Enabling Global Beacon on dataset"
   ]
  },
  {
   "cell_type": "markdown",
   "metadata": {},
   "source": [
    "First let’s start with enabling Global Beacon on the dataset:"
   ]
  },
  {
   "cell_type": "code",
   "execution_count": 8,
   "metadata": {},
   "outputs": [
    {
     "data": {
      "text/plain": [
       "|                  Fields | Data                                               |\n",
       "|-------------------------+----------------------------------------------------|\n",
       "|              account_id | 51                                                 |\n",
       "|     ancestor_object_ids | []                                                 |\n",
       "|            availability | available                                          |\n",
       "|              class_name | Object                                             |\n",
       "|              created_at | 2021-11-29T11:24:42.093Z                           |\n",
       "|     dataset_description | Test dataset for global beacon                     |\n",
       "| dataset_documents_count | 26312                                              |\n",
       "|       dataset_full_name | 1658666726768179211                                |\n",
       "|              dataset_id | 1658666726768179211                                |\n",
       "|                   depth | 0                                                  |\n",
       "|             description | Test dataset for global beacon                     |\n",
       "|         documents_count | 26312                                              |\n",
       "|                filename | beacon-test-dataset                                |\n",
       "|               full_path | solvebio:public:/beacon-test-dataset               |\n",
       "|           global_beacon |                                                    |\n",
       "|            has_children | False                                              |\n",
       "|     has_folder_children | False                                              |\n",
       "|                      id | 1658666726768179211                                |\n",
       "|              is_deleted | False                                              |\n",
       "|        is_transformable | False                                              |\n",
       "|           last_accessed | 2022-01-18T15:42:21Z                               |\n",
       "|           last_modified | 2021-11-29T11:27:06.214Z                           |\n",
       "|                     md5 |                                                    |\n",
       "|                metadata | {}                                                 |\n",
       "|                mimetype | application/vnd.solvebio.dataset                   |\n",
       "|            num_children | 0                                                  |\n",
       "|         num_descendants | 0                                                  |\n",
       "|             object_type | dataset                                            |\n",
       "|        parent_object_id |                                                    |\n",
       "|                    path | /beacon-test-dataset                               |\n",
       "|                    size |                                                    |\n",
       "|           storage_class | Standard-IA                                        |\n",
       "|                    tags | ['test']                                           |\n",
       "|              updated_at | 2022-01-18T15:37:19.783Z                           |\n",
       "|              upload_url |                                                    |\n",
       "|                     url |                                                    |\n",
       "|                    user | {  \"class_name\": \"User\",  \"email\": \"nkrivacevi ... |\n",
       "|                 user_id | 8677                                               |\n",
       "|                vault_id | 7205                                               |\n",
       "|              vault_name | public                                             |"
      ]
     },
     "execution_count": 8,
     "metadata": {},
     "output_type": "execute_result"
    }
   ],
   "source": [
    "# Getting the dataset\n",
    "dataset_full_path = \"solvebio:public:/beacon-test-dataset\"\n",
    "dataset = Object.get_by_full_path(dataset_full_path)\n",
    "dataset"
   ]
  },
  {
   "cell_type": "code",
   "execution_count": 9,
   "metadata": {},
   "outputs": [
    {
     "data": {
      "text/plain": [
       "{'id': 136,\n",
       " 'datastore_id': 6,\n",
       " 'dataset_id': 1658666726768179211,\n",
       " 'status': 'indexing',\n",
       " 'progress_percent': 0,\n",
       " 'is_deleted': False}"
      ]
     },
     "execution_count": 9,
     "metadata": {},
     "output_type": "execute_result"
    }
   ],
   "source": [
    "# Enabling Global Beacon on dataset\n",
    "dataset.enable_global_beacon()"
   ]
  },
  {
   "cell_type": "markdown",
   "metadata": {},
   "source": [
    "Please notice that in the response, attribute status is `indexing`. While indexing is still in progress you won't be able to perform Global Beacon Search."
   ]
  },
  {
   "cell_type": "markdown",
   "metadata": {},
   "source": [
    "### Checking the status of Global Beacon"
   ]
  },
  {
   "cell_type": "markdown",
   "metadata": {},
   "source": [
    "Let’s check now the status of Global Beacon indexing for the datasets:"
   ]
  },
  {
   "cell_type": "code",
   "execution_count": 10,
   "metadata": {},
   "outputs": [
    {
     "data": {
      "text/plain": [
       "{'id': 136,\n",
       " 'datastore_id': 6,\n",
       " 'dataset_id': 1658666726768179211,\n",
       " 'status': 'completed',\n",
       " 'progress_percent': 100,\n",
       " 'is_deleted': False}"
      ]
     },
     "execution_count": 10,
     "metadata": {},
     "output_type": "execute_result"
    }
   ],
   "source": [
    "# Getting the status of global beacon on the dataset\n",
    "dataset.get_global_beacon_status()"
   ]
  },
  {
   "cell_type": "markdown",
   "metadata": {},
   "source": [
    "As we can see, indexing has been completed (status is `completed` and progress percentage is `100%`). "
   ]
  },
  {
   "cell_type": "markdown",
   "metadata": {},
   "source": [
    "### Disabling Global Beacon on dataset"
   ]
  },
  {
   "cell_type": "markdown",
   "metadata": {},
   "source": [
    "Now when we made sure that global beacon exists for the dataset, when we don't need it any more, we can disable/delete it."
   ]
  },
  {
   "cell_type": "code",
   "execution_count": 11,
   "metadata": {},
   "outputs": [
    {
     "data": {
      "text/plain": [
       "{'id': 136,\n",
       " 'datastore_id': 6,\n",
       " 'dataset_id': 1658666726768179211,\n",
       " 'status': 'destroying',\n",
       " 'progress_percent': 0,\n",
       " 'is_deleted': False}"
      ]
     },
     "execution_count": 11,
     "metadata": {},
     "output_type": "execute_result"
    }
   ],
   "source": [
    "# Disabling Global Beacon on dataset\n",
    "dataset.disable_global_beacon()"
   ]
  },
  {
   "cell_type": "markdown",
   "metadata": {},
   "source": [
    "We can see in the response that the status is now `destroying`."
   ]
  },
  {
   "cell_type": "markdown",
   "metadata": {},
   "source": [
    "When Global Beacon index has been deleted on the dataset, when you try to get the status for the Global Beacon it will return `None`."
   ]
  },
  {
   "cell_type": "code",
   "execution_count": 14,
   "metadata": {},
   "outputs": [
    {
     "name": "stdout",
     "output_type": "stream",
     "text": [
      "None\n"
     ]
    }
   ],
   "source": [
    "# Getting the status of global beacon on the dataset\n",
    "status = dataset.get_global_beacon_status()\n",
    "print(status)"
   ]
  },
  {
   "cell_type": "markdown",
   "metadata": {},
   "source": [
    "Alternatively, you may set the argument `raise_on_disabled` to `True`, to raise an exception if Global Beacon doesn't exist on the dataset. You'll get `404` error with following message: `\"Error: No Global Beacon for Dataset:DATASET_ID\"`"
   ]
  },
  {
   "cell_type": "code",
   "execution_count": 15,
   "metadata": {},
   "outputs": [
    {
     "ename": "SolveError",
     "evalue": "404 Not Found (https://solvebio.api-stag.solvebio.com/v2/objects/1658666726768179211/beacon)\nError: No Global Beacon for Dataset:1658666726768179211",
     "output_type": "error",
     "traceback": [
      "\u001b[0;31m---------------------------------------------------------------------------\u001b[0m",
      "\u001b[0;31mSolveError\u001b[0m                                Traceback (most recent call last)",
      "Input \u001b[0;32mIn [15]\u001b[0m, in \u001b[0;36m<module>\u001b[0;34m\u001b[0m\n\u001b[0;32m----> 1\u001b[0m \u001b[43mdataset\u001b[49m\u001b[38;5;241;43m.\u001b[39;49m\u001b[43mget_global_beacon_status\u001b[49m\u001b[43m(\u001b[49m\u001b[43mraise_on_disabled\u001b[49m\u001b[38;5;241;43m=\u001b[39;49m\u001b[38;5;28;43;01mTrue\u001b[39;49;00m\u001b[43m)\u001b[49m\n",
      "File \u001b[0;32m~/Projects/solvebio-python-3/solvebio-python/build/lib/solvebio/resource/object.py:632\u001b[0m, in \u001b[0;36mObject.get_global_beacon_status\u001b[0;34m(self, raise_on_disabled)\u001b[0m\n\u001b[1;32m    629\u001b[0m     \u001b[38;5;28;01mraise\u001b[39;00m SolveError(\u001b[38;5;124m\"\u001b[39m\u001b[38;5;124mOnly dataset objects can be Global Beacons.\u001b[39m\u001b[38;5;124m\"\u001b[39m)\n\u001b[1;32m    631\u001b[0m \u001b[38;5;28;01mtry\u001b[39;00m:\n\u001b[0;32m--> 632\u001b[0m     response \u001b[38;5;241m=\u001b[39m \u001b[38;5;28;43mself\u001b[39;49m\u001b[38;5;241;43m.\u001b[39;49m\u001b[43m_client\u001b[49m\u001b[38;5;241;43m.\u001b[39;49m\u001b[43mget\u001b[49m\u001b[43m(\u001b[49m\u001b[38;5;28;43mself\u001b[39;49m\u001b[38;5;241;43m.\u001b[39;49m\u001b[43minstance_url\u001b[49m\u001b[43m(\u001b[49m\u001b[43m)\u001b[49m\u001b[43m \u001b[49m\u001b[38;5;241;43m+\u001b[39;49m\u001b[43m \u001b[49m\u001b[38;5;124;43m'\u001b[39;49m\u001b[38;5;124;43m/beacon\u001b[39;49m\u001b[38;5;124;43m'\u001b[39;49m\u001b[43m,\u001b[49m\u001b[43m \u001b[49m\u001b[43m{\u001b[49m\u001b[43m}\u001b[49m\u001b[43m)\u001b[49m\n\u001b[1;32m    633\u001b[0m \u001b[38;5;28;01mexcept\u001b[39;00m SolveError \u001b[38;5;28;01mas\u001b[39;00m e:\n\u001b[1;32m    634\u001b[0m     \u001b[38;5;28;01mif\u001b[39;00m \u001b[38;5;129;01mnot\u001b[39;00m raise_on_disabled:\n",
      "File \u001b[0;32m~/Projects/solvebio-python-3/solvebio-python/build/lib/solvebio/client.py:161\u001b[0m, in \u001b[0;36mSolveClient.get\u001b[0;34m(self, url, params, **kwargs)\u001b[0m\n\u001b[1;32m    158\u001b[0m \u001b[38;5;124;03m\"\"\"Issues an HTTP GET across the wire via the Python requests\u001b[39;00m\n\u001b[1;32m    159\u001b[0m \u001b[38;5;124;03mlibrary. See *request()* for information on keyword args.\"\"\"\u001b[39;00m\n\u001b[1;32m    160\u001b[0m kwargs[\u001b[38;5;124m'\u001b[39m\u001b[38;5;124mparams\u001b[39m\u001b[38;5;124m'\u001b[39m] \u001b[38;5;241m=\u001b[39m params\n\u001b[0;32m--> 161\u001b[0m \u001b[38;5;28;01mreturn\u001b[39;00m \u001b[38;5;28;43mself\u001b[39;49m\u001b[38;5;241;43m.\u001b[39;49m\u001b[43mrequest\u001b[49m\u001b[43m(\u001b[49m\u001b[38;5;124;43m'\u001b[39;49m\u001b[38;5;124;43mGET\u001b[39;49m\u001b[38;5;124;43m'\u001b[39;49m\u001b[43m,\u001b[49m\u001b[43m \u001b[49m\u001b[43murl\u001b[49m\u001b[43m,\u001b[49m\u001b[43m \u001b[49m\u001b[38;5;241;43m*\u001b[39;49m\u001b[38;5;241;43m*\u001b[39;49m\u001b[43mkwargs\u001b[49m\u001b[43m)\u001b[49m\n",
      "File \u001b[0;32m~/Projects/solvebio-python-3/solvebio-python/build/lib/solvebio/client.py:263\u001b[0m, in \u001b[0;36mSolveClient.request\u001b[0;34m(self, method, url, **kwargs)\u001b[0m\n\u001b[1;32m    260\u001b[0m     \u001b[38;5;28;01mreturn\u001b[39;00m \u001b[38;5;28mself\u001b[39m\u001b[38;5;241m.\u001b[39mrequest(method, url, \u001b[38;5;241m*\u001b[39m\u001b[38;5;241m*\u001b[39mkwargs)\n\u001b[1;32m    262\u001b[0m \u001b[38;5;28;01mif\u001b[39;00m \u001b[38;5;129;01mnot\u001b[39;00m (\u001b[38;5;241m200\u001b[39m \u001b[38;5;241m<\u001b[39m\u001b[38;5;241m=\u001b[39m response\u001b[38;5;241m.\u001b[39mstatus_code \u001b[38;5;241m<\u001b[39m \u001b[38;5;241m400\u001b[39m):\n\u001b[0;32m--> 263\u001b[0m     \u001b[43m_handle_api_error\u001b[49m\u001b[43m(\u001b[49m\u001b[43mresponse\u001b[49m\u001b[43m)\u001b[49m\n\u001b[1;32m    265\u001b[0m \u001b[38;5;66;03m# 204 is used on deletion. There is no JSON here.\u001b[39;00m\n\u001b[1;32m    266\u001b[0m \u001b[38;5;28;01mif\u001b[39;00m raw \u001b[38;5;129;01mor\u001b[39;00m response\u001b[38;5;241m.\u001b[39mstatus_code \u001b[38;5;129;01min\u001b[39;00m [\u001b[38;5;241m204\u001b[39m, \u001b[38;5;241m301\u001b[39m, \u001b[38;5;241m302\u001b[39m]:\n",
      "File \u001b[0;32m~/Projects/solvebio-python-3/solvebio-python/build/lib/solvebio/client.py:42\u001b[0m, in \u001b[0;36m_handle_api_error\u001b[0;34m(response)\u001b[0m\n\u001b[1;32m     40\u001b[0m \u001b[38;5;28;01mif\u001b[39;00m response\u001b[38;5;241m.\u001b[39mstatus_code \u001b[38;5;129;01mnot\u001b[39;00m \u001b[38;5;129;01min\u001b[39;00m [\u001b[38;5;241m400\u001b[39m, \u001b[38;5;241m401\u001b[39m, \u001b[38;5;241m403\u001b[39m, \u001b[38;5;241m404\u001b[39m]:\n\u001b[1;32m     41\u001b[0m     logger\u001b[38;5;241m.\u001b[39minfo(\u001b[38;5;124m'\u001b[39m\u001b[38;5;124mAPI Error: \u001b[39m\u001b[38;5;132;01m%d\u001b[39;00m\u001b[38;5;124m'\u001b[39m \u001b[38;5;241m%\u001b[39m response\u001b[38;5;241m.\u001b[39mstatus_code)\n\u001b[0;32m---> 42\u001b[0m \u001b[38;5;28;01mraise\u001b[39;00m SolveError(response\u001b[38;5;241m=\u001b[39mresponse)\n",
      "\u001b[0;31mSolveError\u001b[0m: 404 Not Found (https://solvebio.api-stag.solvebio.com/v2/objects/1658666726768179211/beacon)\nError: No Global Beacon for Dataset:1658666726768179211"
     ]
    }
   ],
   "source": [
    "dataset.get_global_beacon_status(raise_on_disabled=True)"
   ]
  }
 ],
 "metadata": {
  "interpreter": {
   "hash": "5365f12f12443ba93290371f268fae1547fcad5fb86506489681c9d374aefa71"
  },
  "kernelspec": {
   "display_name": "Python 3",
   "language": "python",
   "name": "python3"
  },
  "language_info": {
   "codemirror_mode": {
    "name": "ipython",
    "version": 3
   },
   "file_extension": ".py",
   "mimetype": "text/x-python",
   "name": "python",
   "nbconvert_exporter": "python",
   "pygments_lexer": "ipython3",
   "version": "3.9.6"
  },
  "orig_nbformat": 4
 },
 "nbformat": 4,
 "nbformat_minor": 2
}
