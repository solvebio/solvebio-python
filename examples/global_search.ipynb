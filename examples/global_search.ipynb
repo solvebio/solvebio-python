{
 "cells": [
  {
   "cell_type": "markdown",
   "metadata": {},
   "source": [
    "## Global Search"
   ]
  },
  {
   "cell_type": "markdown",
   "metadata": {},
   "source": [
    "Global Search allows you to search for vaults, files, folders, and datasets by name, tags, user, date, and other metadata which can be customized. Global Search is available on SolveBio Mesh. For more information about Global Search please look at [SolveBio docs](https://docs.solvebio.com/search/).\n",
    "\n",
    "Similarly to Global Search on the web application, the search functionality is available through solvebio Python and R clients as well."
   ]
  },
  {
   "cell_type": "markdown",
   "metadata": {},
   "source": [
    "### Importing SolveBio library and logging in"
   ]
  },
  {
   "cell_type": "code",
   "execution_count": 1,
   "metadata": {},
   "outputs": [],
   "source": [
    "# Importing SolveBio library\n",
    "from solvebio import login\n",
    "from solvebio import Filter\n",
    "from solvebio import GlobalSearch"
   ]
  },
  {
   "cell_type": "code",
   "execution_count": 2,
   "metadata": {},
   "outputs": [
    {
     "data": {
      "text/plain": [
       "True"
      ]
     },
     "execution_count": 2,
     "metadata": {},
     "output_type": "execute_result"
    }
   ],
   "source": [
    "# Logging to SolveBio\n",
    "login()"
   ]
  },
  {
   "cell_type": "markdown",
   "metadata": {},
   "source": [
    "### Global Search Examples"
   ]
  },
  {
   "cell_type": "markdown",
   "metadata": {},
   "source": [
    "#### Performing Global Search"
   ]
  },
  {
   "cell_type": "markdown",
   "metadata": {},
   "source": [
    "GlobalSearch performs search based on the provided set of parameters (filters, entities, query, limit, ordering, etc.):\n",
    "\n",
    "- `query` (optional): An optional query string (advanced search).\n",
    "- `filters` (optional): Filter or List of filter objects.\n",
    "- `entities` (optional): List of entity tuples to filter on (entity type, entity).\n",
    "- `ordering` (optional): List of fields to order the results by.\n",
    "- `limit` (optional): Maximum number of query results to return.\n",
    "- `page_size` (optional): Number of results to fetch per query page.\n",
    "- `result_class` (optional): Class of object returned by query.\n",
    "- `debug` (optional): Sends debug information to the API.\n",
    "- `raw_results` (optional): Whether to use raw API response or to cast logical objects to Vault and Object instances."
   ]
  },
  {
   "cell_type": "markdown",
   "metadata": {},
   "source": [
    "As previously seen, all parameters are optional. That means performing global search without any parameters is equivalent to global search on SolveBio Mesh without any filters - it will return all objects:"
   ]
  },
  {
   "cell_type": "code",
   "execution_count": 3,
   "metadata": {},
   "outputs": [
    {
     "name": "stdout",
     "output_type": "stream",
     "text": [
      "Returned 1449 objects.\n"
     ]
    }
   ],
   "source": [
    "# No filters applied\n",
    "search_results = GlobalSearch()\n",
    "print('Returned {} objects.'.format(len(search_results)))"
   ]
  },
  {
   "cell_type": "markdown",
   "metadata": {},
   "source": [
    "Each result object has the following attributes:"
   ]
  },
  {
   "cell_type": "code",
   "execution_count": 4,
   "metadata": {},
   "outputs": [
    {
     "name": "stdout",
     "output_type": "stream",
     "text": [
      "\n",
      "|                    Fields | Data                                             |\n",
      "|---------------------------+--------------------------------------------------|\n",
      "|                   _errors | {  \"samples\": \"'Dataset query failed: datase ... |\n",
      "|                       _id | dataset-1426183806524170528                      |\n",
      "|                created_at | 2021-01-12T17:02:38.336007+00:00                 |\n",
      "|                 full_path | solvebio:public:/ClinVar/5.2.0-20210110/Variants-|\n",
      "|                        id | 1426183806524170528                              |\n",
      "|                indexed_at | 2021-11-25T17:22:55.233690+00:00                 |\n",
      "|                      name | Variants-GRCH37-1                                |\n",
      "|                    parent | 5.2.0-20210110                                   |\n",
      "|                 parent_id | 1426114255474932968                              |\n",
      "|                      path | solvebio:public:/ClinVar/5.2.0-20210110/Variants-|\n",
      "| postproc_template_version |                                                  |\n",
      "|                   samples | []                                               |\n",
      "|             storage_class | Archive                                          |\n",
      "|                      tags | ['fuji', 'clinvar', 'public data']               |\n",
      "|                      type | dataset                                          |\n",
      "|                updated_at | 2021-02-05T20:18:12.301835+00:00                 |\n",
      "|                      user | Jeff                                             |\n",
      "|                     vault | public                                           |\n",
      "|                  vault_id | 7205                                             |\n",
      "\n",
      "... 1448 more results.\n"
     ]
    }
   ],
   "source": [
    "print(search_results)"
   ]
  },
  {
   "cell_type": "markdown",
   "metadata": {},
   "source": [
    "You may use the `limit` parameter to limit the number of returned objects:"
   ]
  },
  {
   "cell_type": "code",
   "execution_count": 5,
   "metadata": {},
   "outputs": [
    {
     "name": "stdout",
     "output_type": "stream",
     "text": [
      "Returned 200 objects.\n"
     ]
    }
   ],
   "source": [
    "# No filters applied with limit parameter\n",
    "search_results = GlobalSearch(limit=200)\n",
    "print('Returned {} objects.'.format(len(search_results)))"
   ]
  },
  {
   "cell_type": "code",
   "execution_count": 6,
   "metadata": {},
   "outputs": [
    {
     "data": {
      "text/plain": [
       "solvebio.resource.object.Object"
      ]
     },
     "execution_count": 6,
     "metadata": {},
     "output_type": "execute_result"
    }
   ],
   "source": [
    "# Type of results by default it either Vault instance or Object instance\n",
    "type(search_results[0])"
   ]
  },
  {
   "cell_type": "markdown",
   "metadata": {},
   "source": [
    "#### Advanced search query"
   ]
  },
  {
   "cell_type": "markdown",
   "metadata": {},
   "source": [
    "You may perform the advanced search, similar as you would do on SolveBio Mesh, by using `query` argument:"
   ]
  },
  {
   "cell_type": "code",
   "execution_count": 7,
   "metadata": {},
   "outputs": [
    {
     "name": "stdout",
     "output_type": "stream",
     "text": [
      "Returned 16 objects.\n"
     ]
    }
   ],
   "source": [
    "# Advanced search\n",
    "advanced_query_results = GlobalSearch(query=\"test\")\n",
    "print('Returned {} objects.'.format(len(advanced_query_results)))"
   ]
  },
  {
   "cell_type": "code",
   "execution_count": 8,
   "metadata": {},
   "outputs": [
    {
     "name": "stdout",
     "output_type": "stream",
     "text": [
      "Returned 1408 objects.\n"
     ]
    }
   ],
   "source": [
    "# Advanced search\n",
    "advanced_query_results = GlobalSearch(\"fuji\")\n",
    "print('Returned {} objects.'.format(len(advanced_query_results)))"
   ]
  },
  {
   "cell_type": "markdown",
   "metadata": {},
   "source": [
    "#### Global Beacon Search"
   ]
  },
  {
   "cell_type": "markdown",
   "metadata": {},
   "source": [
    "For all of datasets that have the global beacon enabled,  we should be able to perform entity search and see those datasets in the results:"
   ]
  },
  {
   "cell_type": "code",
   "execution_count": 9,
   "metadata": {},
   "outputs": [
    {
     "data": {
      "text/plain": [
       "\n",
       "|                    Fields | Data                                             |\n",
       "|---------------------------+--------------------------------------------------|\n",
       "|                   _errors | {  \"samples\": \"Dataset query failed: dataset ... |\n",
       "|                       _id | dataset-1658666726768179211                      |\n",
       "|                created_at | 2021-11-29T11:24:42.093240+00:00                 |\n",
       "|                 full_path | solvebio:public:/beacon-test-dataset             |\n",
       "|                        id | 1658666726768179211                              |\n",
       "|                indexed_at | 2022-01-13T09:59:14.378879+00:00                 |\n",
       "|                      name | beacon-test-dataset                              |\n",
       "|                    parent |                                                  |\n",
       "|                 parent_id |                                                  |\n",
       "|                      path | solvebio:public:/beacon-test-dataset             |\n",
       "| postproc_template_version |                                                  |\n",
       "|                   samples | []                                               |\n",
       "|             storage_class | Standard-IA                                      |\n",
       "|                      tags | ['fuji', 'test', 'public data', 'other tag']     |\n",
       "|                      type | dataset                                          |\n",
       "|                updated_at | 2022-01-13T09:59:14.268177+00:00                 |\n",
       "|                      user | Nikola                                           |\n",
       "|                     vault | public                                           |\n",
       "|                  vault_id | 7205                                             |\n",
       "\n",
       "... 2 more results."
      ]
     },
     "execution_count": 9,
     "metadata": {},
     "output_type": "execute_result"
    }
   ],
   "source": [
    "# Entity search example\n",
    "GlobalSearch(entities=[[\"gene\", \"BRCA2\"]])"
   ]
  },
  {
   "cell_type": "code",
   "execution_count": 10,
   "metadata": {},
   "outputs": [
    {
     "data": {
      "text/plain": [
       "Query returned 0 results."
      ]
     },
     "execution_count": 10,
     "metadata": {},
     "output_type": "execute_result"
    }
   ],
   "source": [
    "# Entity search example\n",
    "GlobalSearch(entities=[[\"variant\", \"GRCH38-7-140753336-140753336-T\"]])"
   ]
  },
  {
   "cell_type": "markdown",
   "metadata": {},
   "source": [
    "You may combine multiple parameters to narrow down the search results:"
   ]
  },
  {
   "cell_type": "code",
   "execution_count": 11,
   "metadata": {},
   "outputs": [
    {
     "data": {
      "text/plain": [
       "\n",
       "|                    Fields | Data                                             |\n",
       "|---------------------------+--------------------------------------------------|\n",
       "|                   _errors | {  \"samples\": \"Dataset query failed: dataset ... |\n",
       "|                       _id | dataset-1658666726768179211                      |\n",
       "|                created_at | 2021-11-29T11:24:42.093240+00:00                 |\n",
       "|                 full_path | solvebio:public:/beacon-test-dataset             |\n",
       "|                        id | 1658666726768179211                              |\n",
       "|                indexed_at | 2022-01-13T09:59:14.378879+00:00                 |\n",
       "|                      name | beacon-test-dataset                              |\n",
       "|                    parent |                                                  |\n",
       "|                 parent_id |                                                  |\n",
       "|                      path | solvebio:public:/beacon-test-dataset             |\n",
       "| postproc_template_version |                                                  |\n",
       "|                   samples | []                                               |\n",
       "|             storage_class | Standard-IA                                      |\n",
       "|                      tags | ['fuji', 'test', 'public data', 'other tag']     |\n",
       "|                      type | dataset                                          |\n",
       "|                updated_at | 2022-01-13T09:59:14.268177+00:00                 |\n",
       "|                      user | Nikola                                           |\n",
       "|                     vault | public                                           |\n",
       "|                  vault_id | 7205                                             |\n",
       "\n",
       "... 0 more results."
      ]
     },
     "execution_count": 11,
     "metadata": {},
     "output_type": "execute_result"
    }
   ],
   "source": [
    "# Multiple search parameters\n",
    "GlobalSearch(entities=[[\"gene\",\"BRCA2\"]], query=\"test\")"
   ]
  },
  {
   "cell_type": "markdown",
   "metadata": {},
   "source": [
    "#### Getting the Global Search subjects"
   ]
  },
  {
   "cell_type": "markdown",
   "metadata": {},
   "source": [
    "We can also retrieve the `list of subjects`:"
   ]
  },
  {
   "cell_type": "code",
   "execution_count": 12,
   "metadata": {},
   "outputs": [
    {
     "data": {
      "text/plain": [
       "[{'access': True,\n",
       "  'dataset_id': '1589830521744205858',\n",
       "  'dataset_path': 'solvebio:public:/HGNC/3.3.0-2019-07-22/HGNC-1',\n",
       "  'subject': 'U43746'}]"
      ]
     },
     "execution_count": 12,
     "metadata": {},
     "output_type": "execute_result"
    }
   ],
   "source": [
    "# Get list of subjects for the entity search\n",
    "search = GlobalSearch(entities=[[\"gene\",\"BRCA2\"]])\n",
    "search.subjects()"
   ]
  },
  {
   "cell_type": "code",
   "execution_count": 13,
   "metadata": {},
   "outputs": [
    {
     "data": {
      "text/plain": [
       "1"
      ]
     },
     "execution_count": 13,
     "metadata": {},
     "output_type": "execute_result"
    }
   ],
   "source": [
    "# Subjects count\n",
    "search.subjects_count()"
   ]
  },
  {
   "cell_type": "markdown",
   "metadata": {},
   "source": [
    "#### Applying filters for Global Search"
   ]
  },
  {
   "cell_type": "markdown",
   "metadata": {},
   "source": [
    "Similar as [filtering fileds in the dataset](https://docs.solvebio.com/datasets/querying/#filters) (please see the table and examples how to use \"filter actions\"), you may apply the same filtering mechanism to `apply filters to Global Search`:"
   ]
  },
  {
   "cell_type": "code",
   "execution_count": 14,
   "metadata": {},
   "outputs": [
    {
     "name": "stdout",
     "output_type": "stream",
     "text": [
      "Found 4 vaults.\n",
      "Found 90 folders.\n",
      "Found 5 objects.\n"
     ]
    }
   ],
   "source": [
    "# Global Search object\n",
    "search = GlobalSearch()\n",
    "\n",
    "# Equals match (in list)\n",
    "vaults = search.filter(type__in=[\"vault\"])\n",
    "print('Found {} vaults.'.format(len(vaults)))\n",
    "\n",
    "# Equals match (in list)\n",
    "folders = search.filter(type__in=[\"folder\"])\n",
    "print('Found {} folders.'.format(len(folders)))\n",
    "\n",
    "# Date range\n",
    "objects = search.filter(created_at__range=[\"2021-11-28\",\"2021-12-28\"])\n",
    "print('Found {} objects.'.format(len(objects)))"
   ]
  },
  {
   "cell_type": "markdown",
   "metadata": {},
   "source": [
    "You may also combine filters to create more complex searches. Please look at the [docs for combining filters for dataset querying](https://docs.solvebio.com/datasets/querying/#combining-filters), similar logic applies here as well:"
   ]
  },
  {
   "cell_type": "code",
   "execution_count": 15,
   "metadata": {},
   "outputs": [
    {
     "name": "stdout",
     "output_type": "stream",
     "text": [
      "Found 4 objects.\n"
     ]
    }
   ],
   "source": [
    "# Search for all datasets that are creted by the user Nikola\n",
    "f = Filter(type=\"dataset\") & Filter(user=\"Nikola\")\n",
    "results = GlobalSearch(filters=f)\n",
    "print('Found {} objects.'.format(len(results)))"
   ]
  },
  {
   "cell_type": "markdown",
   "metadata": {},
   "source": [
    "#### Chaining search requests"
   ]
  },
  {
   "cell_type": "markdown",
   "metadata": {},
   "source": [
    "Here you may find the examples on how to chain multiple method calls to perform the successive search requests:"
   ]
  },
  {
   "cell_type": "code",
   "execution_count": 16,
   "metadata": {},
   "outputs": [
    {
     "name": "stdout",
     "output_type": "stream",
     "text": [
      "Results:\n",
      "\t1658666726768179211\n",
      "\t1453602241738607801\n",
      "\t1589830521744205858\n",
      "Subjects:\n",
      "\tU43746\n",
      "1 subjects found.\n",
      "Facets:\n",
      "{'vault': [['public', 3]]}\n"
     ]
    }
   ],
   "source": [
    "s = GlobalSearch()\n",
    "\n",
    "# Entity search\n",
    "print(\"Results:\")\n",
    "for result in s.entity(gene=\"BRCA2\"):\n",
    "    print(\"\\t\" + result.id)\n",
    "\n",
    "# Get subjects with BRCA2 in public vault\n",
    "print(\"Subjects:\")\n",
    "for subject in s.filter(vault=\"public\").entity(gene=\"BRCA2\").subjects():\n",
    "    print(\"\\t\" + subject[\"subject\"])\n",
    "\n",
    "# Get subjects count with BRCA2 in public vault\n",
    "subjects_count = s.filter(vault=\"public\").entity(gene=\"BRCA2\").subjects_count()\n",
    "print(\"{} subjects found.\".format(subjects_count))\n",
    "\n",
    "# Get all vaults with BRCA2 datasets\n",
    "print(\"Facets:\")\n",
    "facets = s.entity(gene=\"BRCA2\").facets(\"vault\")\n",
    "print(facets)"
   ]
  },
  {
   "cell_type": "code",
   "execution_count": null,
   "metadata": {},
   "outputs": [],
   "source": []
  }
 ],
 "metadata": {
  "interpreter": {
   "hash": "5365f12f12443ba93290371f268fae1547fcad5fb86506489681c9d374aefa71"
  },
  "kernelspec": {
   "display_name": "Python 3",
   "language": "python",
   "name": "python3"
  },
  "language_info": {
   "codemirror_mode": {
    "name": "ipython",
    "version": 3
   },
   "file_extension": ".py",
   "mimetype": "text/x-python",
   "name": "python",
   "nbconvert_exporter": "python",
   "pygments_lexer": "ipython3",
   "version": "2.7.18"
  },
  "orig_nbformat": 4
 },
 "nbformat": 4,
 "nbformat_minor": 2
}
